{
  "nbformat": 4,
  "nbformat_minor": 0,
  "metadata": {
    "colab": {
      "provenance": [],
      "include_colab_link": true
    },
    "kernelspec": {
      "name": "python3",
      "display_name": "Python 3"
    },
    "language_info": {
      "name": "python"
    }
  },
  "cells": [
    {
      "cell_type": "markdown",
      "metadata": {
        "id": "view-in-github",
        "colab_type": "text"
      },
      "source": [
        "<a href=\"https://colab.research.google.com/github/Reape4er/python-programming/blob/main/%D0%9A%D0%BE%D0%BF%D0%B8%D1%8F_%D0%B1%D0%BB%D0%BE%D0%BA%D0%BD%D0%BE%D1%82%D0%B0_%22%D0%94%D0%9F%D0%9E_%D0%9E%D1%81%D0%BD%D0%BE%D0%B2%D1%8B_Python_%D0%9F%D1%80%D0%B0%D0%BA%D1%82%D0%B8%D1%87%D0%B5%D1%81%D0%BA%D0%B0%D1%8F_%D1%80%D0%B0%D0%B1%D0%BE%D1%82%D0%B0_1_ipynb%22.ipynb\" target=\"_parent\"><img src=\"https://colab.research.google.com/assets/colab-badge.svg\" alt=\"Open In Colab\"/></a>"
      ]
    },
    {
      "cell_type": "markdown",
      "source": [
        "# **Практическая работа №1. Введение в Python. Функции ввода-вывода. Основные типы и структуры данных**\n",
        "\n",
        "---\n",
        "\n",
        "\n",
        "\n"
      ],
      "metadata": {
        "id": "wfO8faq6ZSPR"
      }
    },
    {
      "cell_type": "markdown",
      "source": [
        "**Обучающийся:** *[Введите ваше ФИО]*  \n"
      ],
      "metadata": {
        "id": "s1lvsaUa1kGY"
      }
    },
    {
      "cell_type": "markdown",
      "source": [
        "---"
      ],
      "metadata": {
        "id": "Lmxdci5V1iUz"
      }
    },
    {
      "cell_type": "markdown",
      "source": [
        "## **Блок заданий №1. Функция `print`**\n",
        "\n",
        "\n"
      ],
      "metadata": {
        "id": "APa2xjpZcAkk"
      }
    },
    {
      "cell_type": "markdown",
      "source": [
        "#### 1. Выведите на экран фразу **\"Добро пожаловать в мир Python!\"** с помощью функции `print`.\n"
      ],
      "metadata": {
        "id": "omMWRtIod-k-"
      }
    },
    {
      "cell_type": "code",
      "source": [
        "print(\"Добро пожаловать в мир Python!\")"
      ],
      "metadata": {
        "id": "0R5R1jSwd_FT"
      },
      "execution_count": null,
      "outputs": []
    },
    {
      "cell_type": "markdown",
      "source": [
        "#### 2. Выведите на экран результат сложения чисел **15** и **27**.\n"
      ],
      "metadata": {
        "id": "A3ysPOjNd70e"
      }
    },
    {
      "cell_type": "code",
      "source": [
        "print(15+27)"
      ],
      "metadata": {
        "id": "5wnr_TY1eCmM"
      },
      "execution_count": null,
      "outputs": []
    },
    {
      "cell_type": "markdown",
      "source": [
        "#### 3. Сохраните свое имя в переменную и выведите его на экран с помощью `print`."
      ],
      "metadata": {
        "id": "RBkgp7Bjd9VL"
      }
    },
    {
      "cell_type": "code",
      "source": [
        "name = 'ivan'\n",
        "print(name)"
      ],
      "metadata": {
        "id": "R7V70qsCeCxl"
      },
      "execution_count": null,
      "outputs": []
    },
    {
      "cell_type": "markdown",
      "source": [
        "#### 4. Выведите на экран несколько строк текста, каждая из которых отображается с новой строки."
      ],
      "metadata": {
        "id": "8q_iVvGed6VD"
      }
    },
    {
      "cell_type": "code",
      "source": [
        "print(\"строка 1\\nстрока 2\")"
      ],
      "metadata": {
        "id": "5uFFGny2eC_7",
        "colab": {
          "base_uri": "https://localhost:8080/",
          "height": 0
        },
        "outputId": "47baab1a-e095-4109-c206-9573753664cc"
      },
      "execution_count": 2,
      "outputs": [
        {
          "output_type": "stream",
          "name": "stdout",
          "text": [
            "строка 1\n",
            "строка 2\n"
          ]
        }
      ]
    },
    {
      "cell_type": "markdown",
      "source": [
        "#### 5. Выведите результат математического выражения с использованием f-строк, например:\n",
        "\n",
        "   ```python\n",
        "   7 + 7 = 14\n",
        "   ```\n"
      ],
      "metadata": {
        "id": "ZwTwWIbpeO8B"
      }
    },
    {
      "cell_type": "code",
      "source": [
        "print(f'7 + 7 = {7+7}')"
      ],
      "metadata": {
        "id": "f7cGPh5reXb8",
        "colab": {
          "base_uri": "https://localhost:8080/",
          "height": 0
        },
        "outputId": "41e565a2-9c54-4bf9-8bd5-12ccb6d41e5b"
      },
      "execution_count": 3,
      "outputs": [
        {
          "output_type": "stream",
          "name": "stdout",
          "text": [
            "7 + 7 = 14\n"
          ]
        }
      ]
    },
    {
      "cell_type": "markdown",
      "source": [
        "## **Блок заданий №2. Функция `input`**\n",
        "\n"
      ],
      "metadata": {
        "id": "YBCWUDzEdQcl"
      }
    },
    {
      "cell_type": "markdown",
      "source": [
        "#### 1. Запросите у пользователя три разных числа и выведите их произведение.\n"
      ],
      "metadata": {
        "id": "1JG7ncRffYpN"
      }
    },
    {
      "cell_type": "code",
      "source": [
        "a = int(input('число a: '))\n",
        "b = int(input('число b: '))\n",
        "print(f'произведение a и b: {a*b}')"
      ],
      "metadata": {
        "id": "duI1IqytfZo3",
        "colab": {
          "base_uri": "https://localhost:8080/",
          "height": 0
        },
        "outputId": "e50ae8e9-241e-4b65-d0fc-79ce81e2e789"
      },
      "execution_count": 16,
      "outputs": [
        {
          "output_type": "stream",
          "name": "stdout",
          "text": [
            "число a: 2\n",
            "число b: 3\n",
            "произведение a и b: 6\n"
          ]
        }
      ]
    },
    {
      "cell_type": "markdown",
      "source": [
        "#### 2. Попросите пользователя ввести свое ФИО, а затем выведите фамилию и инициалы.\n"
      ],
      "metadata": {
        "id": "CGLKsG9yfXZf"
      }
    },
    {
      "cell_type": "code",
      "source": [
        "name = input('Введите ваше ФИО:').split(' ')\n",
        "print(f'Фамилия и инициалы: {name[0]} {name[1][0]}. {name[2][0]}.')"
      ],
      "metadata": {
        "id": "OhBXFkoffZ1l",
        "colab": {
          "base_uri": "https://localhost:8080/",
          "height": 0
        },
        "outputId": "81ed843c-c1cb-40b6-c48a-2ac3c060bc27"
      },
      "execution_count": 12,
      "outputs": [
        {
          "output_type": "stream",
          "name": "stdout",
          "text": [
            "Введите ваше ФИО:Артамонов Иван Леонидович\n",
            "Фамилия и инициалы: Артамонов И. Л.\n"
          ]
        }
      ]
    },
    {
      "cell_type": "markdown",
      "source": [
        "#### 3. Получите от пользователя строку и символ, затем определите, сколько раз этот символ встречается в строке.\n"
      ],
      "metadata": {
        "id": "FJd73_DSfWgf"
      }
    },
    {
      "cell_type": "code",
      "source": [
        "user_string = input('Введите строку: ')\n",
        "symbol = input('Введите символ для подсчета: ')\n",
        "print(f'Символ встречается {user_string.count(symbol)} раз')"
      ],
      "metadata": {
        "id": "VAzbeJANfaAP",
        "colab": {
          "base_uri": "https://localhost:8080/",
          "height": 0
        },
        "outputId": "cb5fb91a-ba5b-43c7-df9d-be8980892932"
      },
      "execution_count": 18,
      "outputs": [
        {
          "output_type": "stream",
          "name": "stdout",
          "text": [
            "Введите строку: нейросеть\n",
            "введите символ для подсчета: е\n",
            "символ встречается 2 раз\n"
          ]
        }
      ]
    },
    {
      "cell_type": "markdown",
      "source": [
        "#### 4. Попросите пользователя ввести любимый цвет и выведите сообщение: **\"[Цвет] - красивый цвет!\"**.\n"
      ],
      "metadata": {
        "id": "ZY_cf1nbfVbo"
      }
    },
    {
      "cell_type": "code",
      "source": [
        "print(f'{input('Укажите цвет: ')} - красивый цвет!')"
      ],
      "metadata": {
        "id": "vVoFM74MfaMe",
        "colab": {
          "base_uri": "https://localhost:8080/"
        },
        "outputId": "b239bcf3-63b4-4f1f-c204-728c5ec2c256"
      },
      "execution_count": 20,
      "outputs": [
        {
          "output_type": "stream",
          "name": "stdout",
          "text": [
            "Укажите цвет: фиолетовый\n",
            "фиолетовый - красивый цвет!\n"
          ]
        }
      ]
    },
    {
      "cell_type": "markdown",
      "source": [
        "#### 5. Получите от пользователя строку и выведите ее длину."
      ],
      "metadata": {
        "id": "a6ekPIcOfUFK"
      }
    },
    {
      "cell_type": "code",
      "source": [
        "print(f'Длина строки пользователя: {len(input('Введите строку: '))}')"
      ],
      "metadata": {
        "id": "psRmx_htfas2",
        "colab": {
          "base_uri": "https://localhost:8080/"
        },
        "outputId": "275061f8-9fb0-4b29-ce37-761fcbb76be0"
      },
      "execution_count": 22,
      "outputs": [
        {
          "output_type": "stream",
          "name": "stdout",
          "text": [
            "Введите строку: Забор\n",
            "Длина строки пользователя: 5\n"
          ]
        }
      ]
    },
    {
      "cell_type": "markdown",
      "source": [
        "## **Блок заданий №3. Тип данных `int`**"
      ],
      "metadata": {
        "id": "gQ99P3lxgEvA"
      }
    },
    {
      "cell_type": "markdown",
      "source": [
        "#### Тип данных `int`\n",
        "\n",
        "\n",
        "\n",
        "\n",
        "\n"
      ],
      "metadata": {
        "id": "c-pHmy5NctvU"
      }
    },
    {
      "cell_type": "markdown",
      "source": [
        "1. Создайте переменную типа `int`, присвойте ей значение **42** и выведите на экран."
      ],
      "metadata": {
        "id": "1YAKZCMuglIZ"
      }
    },
    {
      "cell_type": "code",
      "source": [
        "a = 42\n",
        "print(a)"
      ],
      "metadata": {
        "id": "BpqJyc5GgmWz",
        "colab": {
          "base_uri": "https://localhost:8080/"
        },
        "outputId": "0b891eef-13d3-4ea3-f924-383c49a41c15"
      },
      "execution_count": 23,
      "outputs": [
        {
          "output_type": "stream",
          "name": "stdout",
          "text": [
            "42\n"
          ]
        }
      ]
    },
    {
      "cell_type": "markdown",
      "source": [
        "2. Вычислите и выведите результат выражения **(17 * 3) + (10 / 2)** в виде целого числа."
      ],
      "metadata": {
        "id": "J3FS1RtDgkCO"
      }
    },
    {
      "cell_type": "code",
      "source": [
        "print(int(17*3+10/2))"
      ],
      "metadata": {
        "id": "YLIx8CCrgmkU",
        "colab": {
          "base_uri": "https://localhost:8080/"
        },
        "outputId": "9a17d3ac-857a-4ba5-f68c-7970c447a58f"
      },
      "execution_count": 25,
      "outputs": [
        {
          "output_type": "stream",
          "name": "stdout",
          "text": [
            "56\n"
          ]
        }
      ]
    },
    {
      "cell_type": "markdown",
      "source": [
        "3. Преобразуйте строку **\"100\"** в целое число и добавьте к нему **25**."
      ],
      "metadata": {
        "id": "91x1Lb4tgier"
      }
    },
    {
      "cell_type": "code",
      "source": [
        "number = int(\"100\")\n",
        "print(number+25)"
      ],
      "metadata": {
        "id": "vmEIAy1CgmzH",
        "colab": {
          "base_uri": "https://localhost:8080/"
        },
        "outputId": "9fa596ec-4a30-4ef2-8b41-677641eaf2e3"
      },
      "execution_count": 26,
      "outputs": [
        {
          "output_type": "stream",
          "name": "stdout",
          "text": [
            "125\n"
          ]
        }
      ]
    },
    {
      "cell_type": "markdown",
      "source": [
        "4. Проверьте тип переменной, которая хранит значение **7**, используя функцию `type()`."
      ],
      "metadata": {
        "id": "Ua_0A7teghG0"
      }
    },
    {
      "cell_type": "code",
      "source": [
        "numer = 7\n",
        "print(type(number))"
      ],
      "metadata": {
        "id": "56_CnKgGgnFi",
        "colab": {
          "base_uri": "https://localhost:8080/"
        },
        "outputId": "cc1657c3-4594-4d69-ede6-7677728a8455"
      },
      "execution_count": 27,
      "outputs": [
        {
          "output_type": "stream",
          "name": "stdout",
          "text": [
            "<class 'int'>\n"
          ]
        }
      ]
    },
    {
      "cell_type": "markdown",
      "source": [
        "5. Создайте две переменные целого типа, присвойте им значения и выведите их разницу."
      ],
      "metadata": {
        "id": "JxK0fU_Wgf8J"
      }
    },
    {
      "cell_type": "code",
      "source": [
        "a = 1\n",
        "b = 2\n",
        "print(a-b)"
      ],
      "metadata": {
        "id": "GFsY9xSkgnfv",
        "colab": {
          "base_uri": "https://localhost:8080/"
        },
        "outputId": "3947984f-e551-489a-c032-3a5011f6b94d"
      },
      "execution_count": 28,
      "outputs": [
        {
          "output_type": "stream",
          "name": "stdout",
          "text": [
            "-1\n"
          ]
        }
      ]
    },
    {
      "cell_type": "markdown",
      "source": [
        "## **Блок заданий №4. Тип данных `float`**"
      ],
      "metadata": {
        "id": "G-DskIxcg598"
      }
    },
    {
      "cell_type": "markdown",
      "source": [
        "#### 1. Запросите у пользователя вещественное число и выведите его квадрат.\n",
        "\n",
        "\n",
        "\n"
      ],
      "metadata": {
        "id": "W5liVT_kcwnQ"
      }
    },
    {
      "cell_type": "code",
      "source": [
        "real_number = float(input(\"Введите вещественное число \"))\n",
        "print(f'Квадрат числа {real_number**2}')"
      ],
      "metadata": {
        "id": "S_i6OLwShHaH",
        "colab": {
          "base_uri": "https://localhost:8080/"
        },
        "outputId": "f588af1d-0193-4463-b937-fbf7612ceb58"
      },
      "execution_count": 32,
      "outputs": [
        {
          "output_type": "stream",
          "name": "stdout",
          "text": [
            "Введите вещественное число 2.5\n",
            "Квадрат числа 6.25\n"
          ]
        }
      ]
    },
    {
      "cell_type": "markdown",
      "source": [
        "#### 2. Запросите у пользователя вещественное число и округлите его до двух знаков после запятой."
      ],
      "metadata": {
        "id": "rcXGDx7FhGZ7"
      }
    },
    {
      "cell_type": "code",
      "source": [
        "import math\n",
        "real_number = float(input(\"Введите вещественное число \"))\n",
        "print(f'Округленное число вверх {math.ceil(real_number)}')"
      ],
      "metadata": {
        "id": "W534mNlphHoW",
        "colab": {
          "base_uri": "https://localhost:8080/"
        },
        "outputId": "f5c5e341-e9de-4a1a-b438-c754cbfc53cf"
      },
      "execution_count": 33,
      "outputs": [
        {
          "output_type": "stream",
          "name": "stdout",
          "text": [
            "Введите вещественное число 2.5\n",
            "Округленное число вверх 3\n"
          ]
        }
      ]
    },
    {
      "cell_type": "markdown",
      "source": [
        "#### 3. Сложите два числа с плавающей точкой: **2.5** и **4.7**, выведите результат."
      ],
      "metadata": {
        "id": "2HZIMG65hEwD"
      }
    },
    {
      "cell_type": "code",
      "source": [
        "print(2.5+4.7)"
      ],
      "metadata": {
        "id": "tNhoDLUqhH-Q",
        "colab": {
          "base_uri": "https://localhost:8080/"
        },
        "outputId": "60f1fd43-fd6b-46cd-8b65-6b67d0b5ce61"
      },
      "execution_count": 34,
      "outputs": [
        {
          "output_type": "stream",
          "name": "stdout",
          "text": [
            "7.2\n"
          ]
        }
      ]
    },
    {
      "cell_type": "markdown",
      "source": [
        "#### 4. Преобразуйте градусы Цельсия, введенные пользователем, в Фаренгейты по формуле `F = C * 9/5 + 32`."
      ],
      "metadata": {
        "id": "lbX1tt0_hDlr"
      }
    },
    {
      "cell_type": "code",
      "source": [
        "Cel = float(input('Введите градусы Цельсия '))\n",
        "print(f'В Фаренгейтах: {Cel*9/5+32}')"
      ],
      "metadata": {
        "id": "tjYR7aRHhILq",
        "colab": {
          "base_uri": "https://localhost:8080/"
        },
        "outputId": "d6a81d9b-fbaf-44f9-9efb-0bae8bb123ff"
      },
      "execution_count": 37,
      "outputs": [
        {
          "output_type": "stream",
          "name": "stdout",
          "text": [
            "Введите градусы Цельсия 100\n",
            "В Фаренгейтах: 212.0\n"
          ]
        }
      ]
    },
    {
      "cell_type": "markdown",
      "source": [
        "#### 5. Получите от пользователя длину и ширину прямоугольника, вычислите его площадь и периметр."
      ],
      "metadata": {
        "id": "RhghSwthhCPJ"
      }
    },
    {
      "cell_type": "code",
      "source": [
        "a = float(input(\"Введите первую сторону прямоугольника \"))\n",
        "b = float(input(\"Введите вторую сторону прямоугольника \"))\n",
        "print(f'Площадь прямоугольника: {a*b}')\n",
        "print(f'Периметр прямоугольника: {(a+b)*2}')"
      ],
      "metadata": {
        "id": "GjKTKXmZhIaN",
        "colab": {
          "base_uri": "https://localhost:8080/"
        },
        "outputId": "b5baecf1-ee72-443f-f373-5092dda16424"
      },
      "execution_count": 40,
      "outputs": [
        {
          "output_type": "stream",
          "name": "stdout",
          "text": [
            "Введите первую сторону прямоугольника 1\n",
            "Введите вторую сторону прямоугольника 2\n",
            "Площадь прямоугольника: 2.0\n",
            "Периметр прямоугольника: 6.0\n"
          ]
        }
      ]
    },
    {
      "cell_type": "markdown",
      "source": [
        "## **Блок заданий №5. Тип данных `str`**"
      ],
      "metadata": {
        "id": "CslTMbtXiWOP"
      }
    },
    {
      "cell_type": "markdown",
      "source": [
        "####1. Создайте строку **\"Python - самый популярный язык программирования\"** и выведите ее.\n"
      ],
      "metadata": {
        "id": "KUmla5cCieae"
      }
    },
    {
      "cell_type": "code",
      "source": [
        "py = \"Python - самый популярный язык программирования\"\n",
        "print(py)"
      ],
      "metadata": {
        "id": "Q7kHloVXlMVB",
        "colab": {
          "base_uri": "https://localhost:8080/"
        },
        "outputId": "f0d0392e-aca7-4343-f251-9fd4608606e9"
      },
      "execution_count": 41,
      "outputs": [
        {
          "output_type": "stream",
          "name": "stdout",
          "text": [
            "Python - самый популярный язык программирования\n"
          ]
        }
      ]
    },
    {
      "cell_type": "markdown",
      "source": [
        "####2. Выведите первый и последний символы строки **\"Привет, мир!\"**."
      ],
      "metadata": {
        "id": "ypQL09raiehN"
      }
    },
    {
      "cell_type": "code",
      "source": [
        "st = \"Привет, мир!\"\n",
        "print(f'{st[0]}, {st[-1]}')"
      ],
      "metadata": {
        "id": "iVU99HAUlMpC",
        "colab": {
          "base_uri": "https://localhost:8080/"
        },
        "outputId": "43870ccc-7f0a-47a2-cc24-12c3b9fd7c55"
      },
      "execution_count": 42,
      "outputs": [
        {
          "output_type": "stream",
          "name": "stdout",
          "text": [
            "П, !\n"
          ]
        }
      ]
    },
    {
      "cell_type": "markdown",
      "source": [
        "####3. Соедините три строки: **\"МИИГАиК - \"** , **\"Лучший \"**, **\"ВУЗ!\"** выведите результат."
      ],
      "metadata": {
        "id": "XxKbQhFkiw83"
      }
    },
    {
      "cell_type": "code",
      "source": [
        "print(\"МИИГАиК - \"+\"Лучший \"+\"ВУЗ!\")"
      ],
      "metadata": {
        "id": "4amk_NcnlM3T",
        "colab": {
          "base_uri": "https://localhost:8080/"
        },
        "outputId": "00d0f397-cee6-4ce6-bd2c-36baeb866a07"
      },
      "execution_count": 44,
      "outputs": [
        {
          "output_type": "stream",
          "name": "stdout",
          "text": [
            "МИИГАиК - Лучший ВУЗ!\n"
          ]
        }
      ]
    },
    {
      "cell_type": "markdown",
      "source": [
        "####4. Преобразуйте строку **\"12345\"** в число и выведите тип полученного значения.\n"
      ],
      "metadata": {
        "id": "MXOJX4g8ieoI"
      }
    },
    {
      "cell_type": "code",
      "source": [
        "number = int('12345')\n",
        "print(type(number))"
      ],
      "metadata": {
        "id": "t6Wvy7CZlNM2",
        "colab": {
          "base_uri": "https://localhost:8080/"
        },
        "outputId": "f47cdc7f-398d-4ab6-ada6-acf782e172a1"
      },
      "execution_count": 45,
      "outputs": [
        {
          "output_type": "stream",
          "name": "stdout",
          "text": [
            "<class 'int'>\n"
          ]
        }
      ]
    },
    {
      "cell_type": "markdown",
      "source": [
        "####5. Сделайте все буквы строки **\"python is Fun\"** заглавными и выведите результат."
      ],
      "metadata": {
        "id": "hhBQ-8gMc0Li"
      }
    },
    {
      "cell_type": "code",
      "source": [
        "string = 'python is Fun'\n",
        "print(string.upper())"
      ],
      "metadata": {
        "id": "n3KLT91zlNgY",
        "colab": {
          "base_uri": "https://localhost:8080/"
        },
        "outputId": "2fa5f4f3-0846-4654-f405-cacb66564752"
      },
      "execution_count": 46,
      "outputs": [
        {
          "output_type": "stream",
          "name": "stdout",
          "text": [
            "PYTHON IS FUN\n"
          ]
        }
      ]
    },
    {
      "cell_type": "markdown",
      "source": [
        "## **Блок заданий №6. Тип данных `list`**"
      ],
      "metadata": {
        "id": "ud5LmPUPlXND"
      }
    },
    {
      "cell_type": "markdown",
      "source": [
        "####1. Создайте список из чисел **[10, 20, 30, 40, 50]** и выведите его.\n"
      ],
      "metadata": {
        "id": "ZDkNefxXlXND"
      }
    },
    {
      "cell_type": "code",
      "source": [
        "number_list = [10,20,30,40,50]\n",
        "print(number_list)"
      ],
      "metadata": {
        "id": "G6fH9gBLlzI2",
        "colab": {
          "base_uri": "https://localhost:8080/"
        },
        "outputId": "32afc80c-7b2c-4da6-c037-31e3f236d0d7"
      },
      "execution_count": 47,
      "outputs": [
        {
          "output_type": "stream",
          "name": "stdout",
          "text": [
            "[10, 20, 30, 40, 50]\n"
          ]
        }
      ]
    },
    {
      "cell_type": "markdown",
      "source": [
        "####2. Добавьте в список строку **\"новый элемент\"** и выведите обновленный список.\n"
      ],
      "metadata": {
        "id": "oDUtdPi-lo7n"
      }
    },
    {
      "cell_type": "code",
      "source": [
        "number_list.append(\"новый элемент\")\n",
        "print(number_list)"
      ],
      "metadata": {
        "id": "6QhNXffflzXT",
        "colab": {
          "base_uri": "https://localhost:8080/"
        },
        "outputId": "59fafea8-d028-4402-e4ab-5faec4e8d800"
      },
      "execution_count": 48,
      "outputs": [
        {
          "output_type": "stream",
          "name": "stdout",
          "text": [
            "[10, 20, 30, 40, 50, 'новый элемент']\n"
          ]
        }
      ]
    },
    {
      "cell_type": "markdown",
      "source": [
        "####3. Из списка `['python', 'java', 'c++', 'ruby', 'perl']` выведите элементы с 2-го по 4-й включительно.\n"
      ],
      "metadata": {
        "id": "BZlOVdc4lo-O"
      }
    },
    {
      "cell_type": "code",
      "source": [
        "lang_list = ['python', 'java', 'c++', 'ruby', 'perl']\n",
        "print(lang_list[1:4])"
      ],
      "metadata": {
        "id": "lU12ExUElzjH",
        "colab": {
          "base_uri": "https://localhost:8080/"
        },
        "outputId": "10d6bb73-1b8a-4ad2-ce40-d401d0acef27"
      },
      "execution_count": 51,
      "outputs": [
        {
          "output_type": "stream",
          "name": "stdout",
          "text": [
            "['java', 'c++', 'ruby']\n"
          ]
        }
      ]
    },
    {
      "cell_type": "markdown",
      "source": [
        "####4. Создайте пустой список, добавьте в него три любых значения и выведите итоговый список.\n"
      ],
      "metadata": {
        "id": "0dZPxhU_lpCN"
      }
    },
    {
      "cell_type": "code",
      "source": [
        "some_list = []\n",
        "some_list.append(1)\n",
        "some_list.append('aabb')\n",
        "some_list.append([1,2,3])\n",
        "print(some_list)"
      ],
      "metadata": {
        "id": "pRQ1BHKUlzud",
        "colab": {
          "base_uri": "https://localhost:8080/"
        },
        "outputId": "e70d6c45-cbc5-49e9-c6bf-bd3055cfff38"
      },
      "execution_count": 52,
      "outputs": [
        {
          "output_type": "stream",
          "name": "stdout",
          "text": [
            "[1, 'aabb', [1, 2, 3]]\n"
          ]
        }
      ]
    },
    {
      "cell_type": "markdown",
      "source": [
        "####5. Измените второй элемент списка **[1, 2, 3, 4, 5]** на число **200** и выведите список."
      ],
      "metadata": {
        "id": "o104mH_plpJl"
      }
    },
    {
      "cell_type": "code",
      "source": [
        "num_list = [1,2,3,4,5]\n",
        "num_list[1] = 200\n",
        "print(num_list)"
      ],
      "metadata": {
        "id": "ur_sqeAYlz-0",
        "colab": {
          "base_uri": "https://localhost:8080/"
        },
        "outputId": "9cf10b9a-34a0-4cfd-9a41-dde25453b588"
      },
      "execution_count": 53,
      "outputs": [
        {
          "output_type": "stream",
          "name": "stdout",
          "text": [
            "[1, 200, 3, 4, 5]\n"
          ]
        }
      ]
    },
    {
      "cell_type": "markdown",
      "source": [
        "## **Блок заданий №7. Тип данных `tuple`**"
      ],
      "metadata": {
        "id": "w7lcJPx9mhLe"
      }
    },
    {
      "cell_type": "markdown",
      "source": [
        "####1. Создайте кортеж из чисел **(1, 2, 3, 4, 5)** и выведите его на экран.\n"
      ],
      "metadata": {
        "id": "HqmF9aMWmeon"
      }
    },
    {
      "cell_type": "code",
      "source": [
        "tup = (1,2,3,4,5)\n",
        "print(tup)"
      ],
      "metadata": {
        "id": "hGuk1KfHn7V7",
        "colab": {
          "base_uri": "https://localhost:8080/"
        },
        "outputId": "05570563-6914-45da-a9f7-132c28bb8290"
      },
      "execution_count": 54,
      "outputs": [
        {
          "output_type": "stream",
          "name": "stdout",
          "text": [
            "(1, 2, 3, 4, 5)\n"
          ]
        }
      ]
    },
    {
      "cell_type": "markdown",
      "source": [
        "####2. Попробуйте изменить первый элемент кортежа и объясните в комментариях к программе, что произошло.\n"
      ],
      "metadata": {
        "id": "_QQf4g6gmerF"
      }
    },
    {
      "cell_type": "code",
      "source": [
        "tup[0] = 10\n",
        "#Не поддерживает присваивание элементов"
      ],
      "metadata": {
        "id": "sZcbKwV_n7vA",
        "colab": {
          "base_uri": "https://localhost:8080/",
          "height": 141
        },
        "outputId": "5aea927c-7bce-4f7e-ae3d-a51c4858edab"
      },
      "execution_count": 56,
      "outputs": [
        {
          "output_type": "error",
          "ename": "TypeError",
          "evalue": "'tuple' object does not support item assignment",
          "traceback": [
            "\u001b[0;31m---------------------------------------------------------------------------\u001b[0m",
            "\u001b[0;31mTypeError\u001b[0m                                 Traceback (most recent call last)",
            "\u001b[0;32m/tmp/ipython-input-1581695328.py\u001b[0m in \u001b[0;36m<cell line: 0>\u001b[0;34m()\u001b[0m\n\u001b[0;32m----> 1\u001b[0;31m \u001b[0mtup\u001b[0m\u001b[0;34m[\u001b[0m\u001b[0;36m0\u001b[0m\u001b[0;34m]\u001b[0m \u001b[0;34m=\u001b[0m \u001b[0;36m10\u001b[0m\u001b[0;34m\u001b[0m\u001b[0;34m\u001b[0m\u001b[0m\n\u001b[0m",
            "\u001b[0;31mTypeError\u001b[0m: 'tuple' object does not support item assignment"
          ]
        }
      ]
    },
    {
      "cell_type": "markdown",
      "source": [
        "####3. Преобразуйте кортеж в строку и выведите результат.\n"
      ],
      "metadata": {
        "id": "6fMHK5femevO"
      }
    },
    {
      "cell_type": "code",
      "source": [
        "tup = (1,2)\n",
        "tup2str = str(tup)\n",
        "print(tup2str)"
      ],
      "metadata": {
        "id": "AudeNNOin77h",
        "colab": {
          "base_uri": "https://localhost:8080/"
        },
        "outputId": "f1658583-57a2-4deb-c984-ff936d5a8cef"
      },
      "execution_count": 58,
      "outputs": [
        {
          "output_type": "stream",
          "name": "stdout",
          "text": [
            "(1, 2)\n"
          ]
        }
      ]
    },
    {
      "cell_type": "markdown",
      "source": [
        "####4. Проверьте, содержится ли определенный элемент в кортеже, выведите соответствующее сообщение.\n"
      ],
      "metadata": {
        "id": "HOOFXQYtmeyG"
      }
    },
    {
      "cell_type": "code",
      "source": [
        "tup = (1,2,3)\n",
        "print(\"Число 1 есть\") if 1 in tup else print('Числа 1 нет')\n",
        "print(\"Число 12 есть\") if 12 in tup else print('Числа 12 нет')"
      ],
      "metadata": {
        "id": "PlPkzGCon8N2",
        "colab": {
          "base_uri": "https://localhost:8080/"
        },
        "outputId": "8cd6fb8f-594c-4a84-82fc-32e2bd2515ba"
      },
      "execution_count": 61,
      "outputs": [
        {
          "output_type": "stream",
          "name": "stdout",
          "text": [
            "Число 1 есть\n",
            "Числа 12 нет\n"
          ]
        }
      ]
    },
    {
      "cell_type": "markdown",
      "source": [
        "####5. Создайте кортеж, состоящий из нескольких одинаковых элементов, и найдите их количество с помощью метода `count()`.\n"
      ],
      "metadata": {
        "id": "HSi5wD3xme3I"
      }
    },
    {
      "cell_type": "code",
      "source": [
        "tup = (1,2,2,3,3,3)\n",
        "print(tup.count(2))\n",
        "print(tup.count(3))"
      ],
      "metadata": {
        "id": "G5eyJNkZn8aw",
        "colab": {
          "base_uri": "https://localhost:8080/"
        },
        "outputId": "5af0ba46-0be8-4809-e638-43fb28eac201"
      },
      "execution_count": 63,
      "outputs": [
        {
          "output_type": "stream",
          "name": "stdout",
          "text": [
            "2\n",
            "3\n"
          ]
        }
      ]
    },
    {
      "cell_type": "markdown",
      "source": [
        "## **Блок заданий №8. Тип данных `dict`**"
      ],
      "metadata": {
        "id": "v7nByOSzn6Gs"
      }
    },
    {
      "cell_type": "markdown",
      "source": [
        "####1. Создайте словарь с данными о себе: ключи **\"имя\"**, **\"возраст\"**, **\"город\"**; выведите его.\n"
      ],
      "metadata": {
        "id": "SdH7l87WoNxs"
      }
    },
    {
      "cell_type": "code",
      "source": [
        "info = {\n",
        "    \"имя\": \"Иван\",\n",
        "    \"возраст\": 22,\n",
        "    \"город\": \"Москва\"\n",
        "}\n",
        "print(info)"
      ],
      "metadata": {
        "id": "G_5mPREsoO__",
        "colab": {
          "base_uri": "https://localhost:8080/"
        },
        "outputId": "157de7aa-ca17-461e-e286-b362807dfb30"
      },
      "execution_count": 67,
      "outputs": [
        {
          "output_type": "stream",
          "name": "stdout",
          "text": [
            "{'имя': 'Иван', 'возраст': 22, 'город': 'Москва'}\n"
          ]
        }
      ]
    },
    {
      "cell_type": "markdown",
      "source": [
        "####2. Выведите значение по ключу **\"имя\"** из созданного словаря.\n"
      ],
      "metadata": {
        "id": "nsoYMyesoMxq"
      }
    },
    {
      "cell_type": "code",
      "source": [
        "info.get('имя')"
      ],
      "metadata": {
        "id": "OL_waQuioPSG",
        "colab": {
          "base_uri": "https://localhost:8080/",
          "height": 36
        },
        "outputId": "c4dfa0da-9114-4280-8f81-4b87c38fd91b"
      },
      "execution_count": 68,
      "outputs": [
        {
          "output_type": "execute_result",
          "data": {
            "text/plain": [
              "'Иван'"
            ],
            "application/vnd.google.colaboratory.intrinsic+json": {
              "type": "string"
            }
          },
          "metadata": {},
          "execution_count": 68
        }
      ]
    },
    {
      "cell_type": "markdown",
      "source": [
        "####3. Добавьте в словарь новый ключ **\"профессия\"** со значением и выведите словарь.\n"
      ],
      "metadata": {
        "id": "0T_miCFjoLhI"
      }
    },
    {
      "cell_type": "code",
      "source": [
        "info[\"вуз\"] = \"миигаик\"\n",
        "print(info)"
      ],
      "metadata": {
        "id": "5LOqyJAHoPfn",
        "colab": {
          "base_uri": "https://localhost:8080/"
        },
        "outputId": "0842e4de-95f4-4498-d8e1-6360200e86ca"
      },
      "execution_count": 70,
      "outputs": [
        {
          "output_type": "stream",
          "name": "stdout",
          "text": [
            "{'имя': 'Иван', 'возраст': 22, 'город': 'Москва', 'вуз': 'миигаик'}\n"
          ]
        }
      ]
    },
    {
      "cell_type": "markdown",
      "source": [
        "####4. Удалите из словаря ключ **\"город\"** и выведите обновленный словарь.\n"
      ],
      "metadata": {
        "id": "QPwxJK74oKZ3"
      }
    },
    {
      "cell_type": "code",
      "source": [
        "info.pop(\"город\")\n",
        "print(info)"
      ],
      "metadata": {
        "id": "3dPMpP1koPrR",
        "colab": {
          "base_uri": "https://localhost:8080/"
        },
        "outputId": "cd157548-4665-439f-bbb3-ff002052113b"
      },
      "execution_count": 71,
      "outputs": [
        {
          "output_type": "stream",
          "name": "stdout",
          "text": [
            "{'имя': 'Иван', 'возраст': 22, 'вуз': 'миигаик'}\n"
          ]
        }
      ]
    },
    {
      "cell_type": "markdown",
      "source": [
        "####5. Создайте пустой словарь и добавьте в него пару ключ-значение, введенных пользователем."
      ],
      "metadata": {
        "id": "7UDgxikGoJXz"
      }
    },
    {
      "cell_type": "code",
      "source": [
        "empty_dict = {}\n",
        "key = input(\"Введите ключ: \")\n",
        "value = input(\"Введите значение: \")\n",
        "empty_dict[key] = value\n",
        "print(empty_dict)"
      ],
      "metadata": {
        "id": "AofDComvoP2d",
        "colab": {
          "base_uri": "https://localhost:8080/"
        },
        "outputId": "9360d532-0b71-4a7d-9f81-910a83205e2f"
      },
      "execution_count": 73,
      "outputs": [
        {
          "output_type": "stream",
          "name": "stdout",
          "text": [
            "Введите ключ: ключ\n",
            "Введите значение: значение\n",
            "{'ключ': 'значение'}\n"
          ]
        }
      ]
    }
  ]
}