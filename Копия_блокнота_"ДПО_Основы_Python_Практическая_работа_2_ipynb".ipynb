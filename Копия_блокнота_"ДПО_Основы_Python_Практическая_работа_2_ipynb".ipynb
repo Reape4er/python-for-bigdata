{
  "nbformat": 4,
  "nbformat_minor": 0,
  "metadata": {
    "colab": {
      "provenance": [],
      "include_colab_link": true
    },
    "kernelspec": {
      "name": "python3",
      "display_name": "Python 3"
    },
    "language_info": {
      "name": "python"
    }
  },
  "cells": [
    {
      "cell_type": "markdown",
      "metadata": {
        "id": "view-in-github",
        "colab_type": "text"
      },
      "source": [
        "<a href=\"https://colab.research.google.com/github/Reape4er/python-for-bigdata/blob/main/%D0%9A%D0%BE%D0%BF%D0%B8%D1%8F_%D0%B1%D0%BB%D0%BE%D0%BA%D0%BD%D0%BE%D1%82%D0%B0_%22%D0%94%D0%9F%D0%9E_%D0%9E%D1%81%D0%BD%D0%BE%D0%B2%D1%8B_Python_%D0%9F%D1%80%D0%B0%D0%BA%D1%82%D0%B8%D1%87%D0%B5%D1%81%D0%BA%D0%B0%D1%8F_%D1%80%D0%B0%D0%B1%D0%BE%D1%82%D0%B0_2_ipynb%22.ipynb\" target=\"_parent\"><img src=\"https://colab.research.google.com/assets/colab-badge.svg\" alt=\"Open In Colab\"/></a>"
      ]
    },
    {
      "cell_type": "markdown",
      "source": [
        "# **Практическая работа №2. Введение в Python. Циклы в Python: for и while. Функции в Python. Обработка исключений в Python (try, except, else, finally)**\n",
        "\n",
        "---\n",
        "\n",
        "\n"
      ],
      "metadata": {
        "id": "QliphIp1pbse"
      }
    },
    {
      "cell_type": "markdown",
      "source": [
        "**Обучающийся:** *Артамонов Иван Леонидович*  "
      ],
      "metadata": {
        "id": "tTK8mNGDqA8Z"
      }
    },
    {
      "cell_type": "markdown",
      "source": [
        "\n",
        "\n",
        "---"
      ],
      "metadata": {
        "id": "wTJjWD61p_dZ"
      }
    },
    {
      "cell_type": "markdown",
      "source": [
        "## **Блок заданий №1. Циклы в Python: for и while**\n",
        "\n"
      ],
      "metadata": {
        "id": "-iXZOjjEoLsS"
      }
    },
    {
      "cell_type": "markdown",
      "source": [
        "### 1. **Сумма чисел от 1 до N**  \n",
        "   Напишите программу, которая запрашивает у пользователя число `N` и с помощью цикла `for` вычисляет сумму всех чисел от 1 до `N`."
      ],
      "metadata": {
        "id": "1Vy5lAnxoTrL"
      }
    },
    {
      "cell_type": "code",
      "source": [
        "N = int(input('До какого числа вычислять сумму: '))\n",
        "sum_num = 0\n",
        "for i in range(1,N+1):\n",
        "  sum_num += i\n",
        "print(sum_num)"
      ],
      "metadata": {
        "id": "GNtKZwXSoSNg",
        "colab": {
          "base_uri": "https://localhost:8080/"
        },
        "outputId": "31016c20-b249-49b4-996d-f31a67195055"
      },
      "execution_count": null,
      "outputs": [
        {
          "output_type": "stream",
          "name": "stdout",
          "text": [
            "До какого числа вычислять сумму: 4\n",
            "10\n"
          ]
        }
      ]
    },
    {
      "cell_type": "markdown",
      "source": [
        "\n",
        "### 2. **Вывод четных чисел**  \n",
        "   Используя цикл `while`, напишите программу, которая выводит все четные числа от 1 до 100."
      ],
      "metadata": {
        "id": "JgNf_8IToNQH"
      }
    },
    {
      "cell_type": "code",
      "source": [
        "N = 2\n",
        "while N<=100:\n",
        "  print(N)\n",
        "  N+=2\n"
      ],
      "metadata": {
        "id": "0Mgimf-9oWjm",
        "colab": {
          "base_uri": "https://localhost:8080/"
        },
        "outputId": "d88a6a79-b6b3-4057-af26-e4253f1342aa"
      },
      "execution_count": null,
      "outputs": [
        {
          "output_type": "stream",
          "name": "stdout",
          "text": [
            "2\n",
            "4\n",
            "6\n",
            "8\n",
            "10\n",
            "12\n",
            "14\n",
            "16\n",
            "18\n",
            "20\n",
            "22\n",
            "24\n",
            "26\n",
            "28\n",
            "30\n",
            "32\n",
            "34\n",
            "36\n",
            "38\n",
            "40\n",
            "42\n",
            "44\n",
            "46\n",
            "48\n",
            "50\n",
            "52\n",
            "54\n",
            "56\n",
            "58\n",
            "60\n",
            "62\n",
            "64\n",
            "66\n",
            "68\n",
            "70\n",
            "72\n",
            "74\n",
            "76\n",
            "78\n",
            "80\n",
            "82\n",
            "84\n",
            "86\n",
            "88\n",
            "90\n",
            "92\n",
            "94\n",
            "96\n",
            "98\n",
            "100\n"
          ]
        }
      ]
    },
    {
      "cell_type": "markdown",
      "source": [
        "### 3. **Таблица умножения**  \n",
        "   Напишите программу, которая с помощью вложенного цикла `for` выводит таблицу умножения (от 1 до 10)."
      ],
      "metadata": {
        "id": "WvLRnMt8oOpv"
      }
    },
    {
      "cell_type": "markdown",
      "source": [
        "**Пример выходных данных**\n",
        "```\n",
        "   1   2   3   4   5   6   7   8   9  10\n",
        "   2   4   6   8  10  12  14  16  18  20\n",
        "   3   6   9  12  15  18  21  24  27  30\n",
        "   4   8  12  16  20  24  28  32  36  40\n",
        "   5  10  15  20  25  30  35  40  45  50\n",
        "   6  12  18  24  30  36  42  48  54  60\n",
        "   7  14  21  28  35  42  49  56  63  70\n",
        "   8  16  24  32  40  48  56  64  72  80\n",
        "   9  18  27  36  45  54  63  72  81  90\n",
        "  10  20  30  40  50  60  70  80  90 100\n",
        "```\n"
      ],
      "metadata": {
        "id": "lMCzrvNAuiPt"
      }
    },
    {
      "cell_type": "code",
      "source": [
        "for i in range(1,11):\n",
        "  print()\n",
        "  for j in range(1,11):\n",
        "    print(i*j, end='\\t')"
      ],
      "metadata": {
        "id": "9bTYZUCqoW9l",
        "colab": {
          "base_uri": "https://localhost:8080/"
        },
        "outputId": "89ec6662-bed2-4557-f329-03c2b3f53406"
      },
      "execution_count": null,
      "outputs": [
        {
          "output_type": "stream",
          "name": "stdout",
          "text": [
            "\n",
            "1\t2\t3\t4\t5\t6\t7\t8\t9\t10\t\n",
            "2\t4\t6\t8\t10\t12\t14\t16\t18\t20\t\n",
            "3\t6\t9\t12\t15\t18\t21\t24\t27\t30\t\n",
            "4\t8\t12\t16\t20\t24\t28\t32\t36\t40\t\n",
            "5\t10\t15\t20\t25\t30\t35\t40\t45\t50\t\n",
            "6\t12\t18\t24\t30\t36\t42\t48\t54\t60\t\n",
            "7\t14\t21\t28\t35\t42\t49\t56\t63\t70\t\n",
            "8\t16\t24\t32\t40\t48\t56\t64\t72\t80\t\n",
            "9\t18\t27\t36\t45\t54\t63\t72\t81\t90\t\n",
            "10\t20\t30\t40\t50\t60\t70\t80\t90\t100\t"
          ]
        }
      ]
    },
    {
      "cell_type": "markdown",
      "source": [
        "### 4. **Обратный отсчет**  \n",
        "   Напишите программу, которая с помощью цикла `while` выводит обратный отсчет от 10 до 1, а затем выводит сообщение \"Старт!\"."
      ],
      "metadata": {
        "id": "alRU4K6moPoX"
      }
    },
    {
      "cell_type": "code",
      "source": [
        "i = 10\n",
        "while i>=1:\n",
        "  print(i)\n",
        "  i-=1\n",
        "print(\"Старт!\")"
      ],
      "metadata": {
        "id": "xlwpaJbkoXja",
        "colab": {
          "base_uri": "https://localhost:8080/"
        },
        "outputId": "216598cf-9dc1-4a8a-b6a0-f3f4810f73f7"
      },
      "execution_count": null,
      "outputs": [
        {
          "output_type": "stream",
          "name": "stdout",
          "text": [
            "10\n",
            "9\n",
            "8\n",
            "7\n",
            "6\n",
            "5\n",
            "4\n",
            "3\n",
            "2\n",
            "1\n",
            "Старт!\n"
          ]
        }
      ]
    },
    {
      "cell_type": "markdown",
      "source": [
        "\n",
        "\n",
        "### 5. **Поиск максимального числа**  \n",
        "   Напишите программу, которая запрашивает у пользователя 5 чисел и с помощью цикла `for` находит и выводит максимальное из них."
      ],
      "metadata": {
        "id": "ZOrByPyjoQrK"
      }
    },
    {
      "cell_type": "code",
      "source": [
        "max_number = float('-inf')\n",
        "for i in range(5):\n",
        "  num = float(input())\n",
        "  if num>max_number:\n",
        "    max_number= num\n",
        "print(max_number)"
      ],
      "metadata": {
        "id": "nPiZGu03oX6V",
        "colab": {
          "base_uri": "https://localhost:8080/"
        },
        "outputId": "0df48948-056c-4b3a-a219-f6f90002169d"
      },
      "execution_count": null,
      "outputs": [
        {
          "output_type": "stream",
          "name": "stdout",
          "text": [
            "1\n",
            "2\n",
            "3\n",
            "2\n",
            "1\n",
            "3.0\n"
          ]
        }
      ]
    },
    {
      "cell_type": "markdown",
      "source": [
        "## **Блок заданий №2. Функции в Python**\n"
      ],
      "metadata": {
        "id": "n3_ntES4op47"
      }
    },
    {
      "cell_type": "markdown",
      "source": [
        "При написании функций используйте аннотацию типов, а также добавляйте строку документации."
      ],
      "metadata": {
        "id": "e8JyxIPov56d"
      }
    },
    {
      "cell_type": "markdown",
      "source": [
        "### 1. **Функция для вычисления факториала**  \n",
        "   Напишите функцию `factorial(n)`, которая принимает число `n` и возвращает его факториал. Проверьте работу функции на нескольких примерах.\n",
        "\n",
        "\n",
        "\n",
        "\n",
        "\n",
        "\n",
        "\n"
      ],
      "metadata": {
        "id": "0hZbwgVmocJb"
      }
    },
    {
      "cell_type": "code",
      "source": [
        "#1*2*3\n",
        "def factorial(n):\n",
        "  num = 1\n",
        "  for i in range(1,n+1):\n",
        "    num *= i\n",
        "  return num\n",
        "print(factorial(1))\n",
        "print(factorial(2))\n",
        "print(factorial(3))\n",
        "print(factorial(4))"
      ],
      "metadata": {
        "id": "-HdkvvY9owo8",
        "colab": {
          "base_uri": "https://localhost:8080/"
        },
        "outputId": "46cd42b0-6ba3-4479-bc84-3494074c4ef9"
      },
      "execution_count": null,
      "outputs": [
        {
          "output_type": "stream",
          "name": "stdout",
          "text": [
            "1\n",
            "2\n",
            "6\n",
            "24\n"
          ]
        }
      ]
    },
    {
      "cell_type": "markdown",
      "source": [
        "### 2. **Функция для проверки четности**  \n",
        "   Напишите функцию `is_even(n)`, которая принимает число `n` и возвращает `True`, если число четное, и `False` в противном случае."
      ],
      "metadata": {
        "id": "xEQgEhEKovb6"
      }
    },
    {
      "cell_type": "code",
      "source": [
        "def is_even(n):\n",
        "  return n%2==0\n",
        "print(is_even(1))\n",
        "print(is_even(2))\n",
        "print(is_even(3))"
      ],
      "metadata": {
        "id": "Qbgw2_QLow--",
        "colab": {
          "base_uri": "https://localhost:8080/"
        },
        "outputId": "5e29f575-331a-4733-ba2c-2f0d8c22ce3f"
      },
      "execution_count": null,
      "outputs": [
        {
          "output_type": "stream",
          "name": "stdout",
          "text": [
            "False\n",
            "True\n",
            "False\n"
          ]
        }
      ]
    },
    {
      "cell_type": "markdown",
      "source": [
        "### 3. **Функция с именованными аргументами**  \n",
        "   Напишите функцию `person_info(name, age, city=\"Москва\")`, которая принимает имя, возраст и город (по умолчанию \"Москва\"). Функция должна возвращать строку с информацией о человеке.  \n",
        "   \n",
        "   Пример:  \n",
        "```\n",
        "person_info(\"Иван\", 25) → \"Иван, 25 лет, из города Москва\"\n",
        "person_info(\"Мария\", 30, \"Санкт-Петербург\") → \"Мария, 30 лет, из города Санкт-Петербург\"\n",
        "```"
      ],
      "metadata": {
        "id": "-PWnY3LcouSk"
      }
    },
    {
      "cell_type": "code",
      "source": [
        "def person_info(name,age,city='Москва'):\n",
        "  return(f'{name}, {age} лет, из города {city}')\n",
        "\n",
        "print(person_info(\"Иван\", 22))\n",
        "print(person_info(\"Алексей\", 54, \"Казань\"))"
      ],
      "metadata": {
        "id": "8x-s4u8voxUR",
        "colab": {
          "base_uri": "https://localhost:8080/"
        },
        "outputId": "9fbee65b-66e0-44cb-bc35-4c454e2e93d5"
      },
      "execution_count": null,
      "outputs": [
        {
          "output_type": "stream",
          "name": "stdout",
          "text": [
            "Иван, 22 лет, из города Москва\n",
            "Алексей, 54 лет, из города Казань\n"
          ]
        }
      ]
    },
    {
      "cell_type": "markdown",
      "source": [
        "### 4. **Фильтрация четных чисел**  \n",
        "   Напишите функцию `filter_even(*args)`, которая принимает произвольное количество чисел и возвращает список только из четных чисел.  \n",
        "   Пример:  \n",
        "   ```\n",
        "   filter_even(1, 2, 3, 4, 5, 6) → [2, 4, 6]\n",
        "   filter_even(7, 9, 11) → []\n",
        "   ```"
      ],
      "metadata": {
        "id": "DxtROjY3osrS"
      }
    },
    {
      "cell_type": "code",
      "source": [
        "def filter_even(*args):\n",
        "  even_list = []\n",
        "  for i in args:\n",
        "    if i%2==0:\n",
        "      even_list.append(i)\n",
        "  return even_list\n",
        "print(filter_even(1,2,3,4))\n",
        "print(filter_even(12,33,52))\n"
      ],
      "metadata": {
        "id": "CMROKo1Iox9C",
        "colab": {
          "base_uri": "https://localhost:8080/"
        },
        "outputId": "e49d5f71-397a-44f5-ff11-0770be118edd"
      },
      "execution_count": null,
      "outputs": [
        {
          "output_type": "stream",
          "name": "stdout",
          "text": [
            "[2, 4]\n",
            "[12, 52]\n"
          ]
        }
      ]
    },
    {
      "cell_type": "markdown",
      "source": [
        "### 5. **Функция для вычисления статистики**  \n",
        "   Напишите функцию `calculate_stats(*args, **kwargs)`, которая:  \n",
        "   - Из позиционных аргументов вычисляет минимальное, максимальное и среднее значение.  \n",
        "   - Из именованных аргументов возвращает словарь, где ключи — это аргументы, а значения — их типы данных.  \n",
        "   Пример:  \n",
        "   ```\n",
        "   calculate_stats(1, 2, 3, 4, name=\"Иван\", age=25) → ((1, 4, 2.5), {\"name\": \"str\", \"age\": \"int\"})\n",
        "   ```"
      ],
      "metadata": {
        "id": "TPLTxuASorpB"
      }
    },
    {
      "cell_type": "code",
      "source": [
        "def calculate_stats(*args, **kwargs):\n",
        "  min_arg = min(args)\n",
        "  max_arg = max(args)\n",
        "  mean_arg = sum(args)/len(args)\n",
        "  for i in kwargs.keys():\n",
        "    kwargs[i] = type(kwargs.get(i))\n",
        "  return (min_arg, max_arg, mean_arg), kwargs\n",
        "calculate_stats(1, 2, 3, 4, name=\"Иван\", age=25)"
      ],
      "metadata": {
        "id": "F-1JYEoMoykp",
        "colab": {
          "base_uri": "https://localhost:8080/"
        },
        "outputId": "9c55faeb-7c6f-4f4e-918a-143bb3b4b25a"
      },
      "execution_count": null,
      "outputs": [
        {
          "output_type": "execute_result",
          "data": {
            "text/plain": [
              "((1, 4, 2.5), {'name': str, 'age': int})"
            ]
          },
          "metadata": {},
          "execution_count": 6
        }
      ]
    },
    {
      "cell_type": "markdown",
      "source": [
        "## **Блок заданий №3. Работа с текстовыми файлами в Python**\n"
      ],
      "metadata": {
        "id": "ZwSzb-PToe-5"
      }
    },
    {
      "cell_type": "markdown",
      "source": [
        "### 1. **Запись в файл**  \n",
        "   Напишите программу, которая запрашивает у пользователя строку и записывает её в файл `output.txt`."
      ],
      "metadata": {
        "id": "NO_aT90DpDwS"
      }
    },
    {
      "cell_type": "code",
      "source": [
        "with open('output.txt', encoding=\"utf8\", mode='w') as text:\n",
        "  text.write(input(\"Введите строку для записи: \"))"
      ],
      "metadata": {
        "id": "CNGiLXnkpUfa",
        "colab": {
          "base_uri": "https://localhost:8080/"
        },
        "outputId": "d324f5a9-a03c-4d64-a563-415d59216f1b"
      },
      "execution_count": null,
      "outputs": [
        {
          "name": "stdout",
          "output_type": "stream",
          "text": [
            "Введите строку для записи: asd\n"
          ]
        }
      ]
    },
    {
      "cell_type": "markdown",
      "source": [
        "### 2. **Чтение из файла**  \n",
        "   Напишите программу, которая открывает файл `output.txt` и выводит его содержимое на экран."
      ],
      "metadata": {
        "id": "fy_uuck5pE8B"
      }
    },
    {
      "cell_type": "code",
      "source": [
        "with open('output.txt', encoding=\"utf8\", mode='r') as text:\n",
        "  print(text.readlines())"
      ],
      "metadata": {
        "id": "-9eB_a1rpUuA",
        "colab": {
          "base_uri": "https://localhost:8080/"
        },
        "outputId": "b9c0186d-a9f5-4cc1-802f-60b33a8c8436"
      },
      "execution_count": null,
      "outputs": [
        {
          "output_type": "stream",
          "name": "stdout",
          "text": [
            "['какой-то текст']\n"
          ]
        }
      ]
    },
    {
      "cell_type": "markdown",
      "source": [
        "### 3. **Подсчет строк в файле**  \n",
        "   Напишите программу, которая открывает файл `output.txt` и подсчитывает количество строк в нём."
      ],
      "metadata": {
        "id": "yaF0YWwYpF7a"
      }
    },
    {
      "cell_type": "code",
      "source": [
        "with open('output.txt', encoding=\"utf8\", mode='r') as text:\n",
        "  print(len(text.readlines()))"
      ],
      "metadata": {
        "id": "lZsdbitnpU8y",
        "colab": {
          "base_uri": "https://localhost:8080/"
        },
        "outputId": "81b26085-c440-42db-c933-ab693b5dc5cb"
      },
      "execution_count": null,
      "outputs": [
        {
          "output_type": "stream",
          "name": "stdout",
          "text": [
            "1\n"
          ]
        }
      ]
    },
    {
      "cell_type": "markdown",
      "source": [
        "### 4. **Копирование содержимого файла**  \n",
        "   Напишите программу, которая копирует содержимое файла `input.txt` в файл `output.txt`."
      ],
      "metadata": {
        "id": "Ps4aMC32pG3q"
      }
    },
    {
      "cell_type": "code",
      "source": [
        "with open('input.txt', encoding=\"utf8\", mode='w') as text:\n",
        "  text.write(input(\"Введите строку для записи: \"))\n",
        "\n",
        "with open('input.txt', 'r', encoding='utf8') as input_file:\n",
        "    with open('output.txt', 'w', encoding='utf8') as output_file:\n",
        "        output_file.write(input_file.read())"
      ],
      "metadata": {
        "id": "x2LuA9ZwpVPz",
        "colab": {
          "base_uri": "https://localhost:8080/"
        },
        "outputId": "4b65cffc-85e9-4ce4-a8d7-9d025a317c6f"
      },
      "execution_count": null,
      "outputs": [
        {
          "name": "stdout",
          "output_type": "stream",
          "text": [
            "Введите строку для записи: текст для копирования из инпута\n"
          ]
        }
      ]
    },
    {
      "cell_type": "markdown",
      "source": [
        "### 5. **Поиск слова в файле**  \n",
        "   Напишите программу, которая открывает файл `output.txt` и проверяет, содержится ли в нём слово, введённое пользователем."
      ],
      "metadata": {
        "id": "lWGe5Xj4oIn-"
      }
    },
    {
      "cell_type": "code",
      "source": [
        "word_to_find = input(\"Введите слово для поиска: \")\n",
        "\n",
        "with open('output.txt', 'r', encoding='utf8') as text:\n",
        "  content = text.read()\n",
        "\n",
        "if word_to_find in content:\n",
        "  print(f\"Слово '{word_to_find}' найдено в файле.\")\n",
        "else:\n",
        "  print(f\"Слово '{word_to_find}' не найдено в файле.\")"
      ],
      "metadata": {
        "id": "dqPsCHK2pVha"
      },
      "execution_count": null,
      "outputs": []
    },
    {
      "cell_type": "markdown",
      "source": [
        "## **Блок заданий №4. Обработка исключений в Python (try, except, else, finally)**\n"
      ],
      "metadata": {
        "id": "1kJHV5F1o2W-"
      }
    },
    {
      "cell_type": "markdown",
      "source": [
        "### 1. **Чтение файла с обработкой FileNotFoundError**  \n",
        "   Напишите программу, которая запрашивает у пользователя имя (или путь к) файла и пытается открыть его. Если файла не существует, перехватите FileNotFoundError и выведите сообщение «Файл не найден!».\n",
        "\n",
        "\n",
        "\n",
        "\n",
        "\n",
        "\n",
        "\n"
      ],
      "metadata": {
        "id": "EpLMWWsYog9c"
      }
    },
    {
      "cell_type": "code",
      "source": [
        "file_name = input(\"Введите имя файла: \")\n",
        "\n",
        "try:\n",
        "  with open(file_name, 'r', encoding='utf8') as file:\n",
        "    print(file.read())\n",
        "except FileNotFoundError:\n",
        "  print(\"Файл не найден!\")"
      ],
      "metadata": {
        "id": "pdSXLhuAo9wL"
      },
      "execution_count": null,
      "outputs": []
    },
    {
      "cell_type": "markdown",
      "source": [
        "### 2. **Простейший калькулятор с обработкой нескольких исключений**  \n",
        "   Напишите программу, которая спрашивает у пользователя два числа и операцию (+, -, *, /). При попытках сложения или вычитания некорректных значений перехватывайте ValueError, а при делении на ноль — ZeroDivisionError, выводя соответствующие сообщения.\n"
      ],
      "metadata": {
        "id": "_1KEOBCho7wv"
      }
    },
    {
      "cell_type": "code",
      "source": [
        "def calc():\n",
        "  num1 = float(input(\"Введите первое число: \"))\n",
        "  num2 = float(input(\"Введите второе число: \"))\n",
        "  operation = input(\"Введите знак операции '+','-','*','/': \")\n",
        "  try:\n",
        "    if operation == '+':\n",
        "      result = num1 + num2\n",
        "    elif operation == '-':\n",
        "      result = num1 - num2\n",
        "    elif operation == '*':\n",
        "      result = num1 * num2\n",
        "    elif operation == '/':\n",
        "      try:\n",
        "        result = num1 / num2\n",
        "      except ZeroDivisionError:\n",
        "        print(\"Ошибка: Деление на ноль!\")\n",
        "        return\n",
        "    else:\n",
        "      print(\"Ошибка: Некорректная операция!\")\n",
        "      return\n",
        "\n",
        "    print(f\"Результат: {result}\")\n",
        "\n",
        "  except ValueError:\n",
        "    print(\"Ошибка: Введено некорректное число!\")\n",
        "\n",
        "calc()"
      ],
      "metadata": {
        "id": "WPcrPlXWo-bz",
        "colab": {
          "base_uri": "https://localhost:8080/"
        },
        "outputId": "3eb018ec-bbf0-44c3-d7e6-faeacb4e7095"
      },
      "execution_count": null,
      "outputs": [
        {
          "output_type": "stream",
          "name": "stdout",
          "text": [
            "Введите первое число: 1\n",
            "Введите первое число: 2\n",
            "Введите знак операции '+','-','*','/': +\n",
            "Результат: 3.0\n"
          ]
        }
      ]
    },
    {
      "cell_type": "markdown",
      "source": [
        "### 3. **Обработка некорректного индекса (IndexError)**  \n",
        "   Создайте список из нескольких элементов (например, [10, 20, 30]). Попросите пользователя ввести индекс элемента, который нужно вывести. Если пользователь введёт индекс, выходящий за границы списка, перехватите IndexError и сообщите об этом в консоли в свободной форме."
      ],
      "metadata": {
        "id": "I-0e0lcio6tK"
      }
    },
    {
      "cell_type": "code",
      "source": [
        "L = [10,20,30]\n",
        "try:\n",
        "  print(L[int(input(\"Введите индекс элемента для получения: \"))])\n",
        "except IndexError:\n",
        "  print('Такого элемента не существует')"
      ],
      "metadata": {
        "id": "mfi-4oyFx1GR",
        "colab": {
          "base_uri": "https://localhost:8080/"
        },
        "outputId": "e96ca1f9-8cd4-4923-af3e-d9495a0d6f70"
      },
      "execution_count": null,
      "outputs": [
        {
          "output_type": "stream",
          "name": "stdout",
          "text": [
            "Введите индекс элемента для получения: 3\n",
            "Такого элемента не существует\n"
          ]
        }
      ]
    },
    {
      "cell_type": "markdown",
      "source": [
        "### 4. **Чтение и запись в файл с обработкой ошибок**  \n",
        "  Напишите программу, которая:  \n",
        "  - Запрашивает у пользователя имя файла.  \n",
        "  - Если файл существует, программа читает его содержимое и выводит на экран.  \n",
        "  - Если файл не существует, программа создает его и записывает в него строку `\"Файл был создан\"`.  \n",
        "  Используйте обработку исключений.\n",
        "\n",
        "  Пример:  \n",
        "    ```\n",
        "    Введите имя файла: data.txt  \n",
        "    Файл не найден. Создан новый файл.\n",
        "    ```"
      ],
      "metadata": {
        "id": "OeQvEFV9o5My"
      }
    },
    {
      "cell_type": "code",
      "source": [
        "file_name = input(\"Введите имя файла для чтения: \")\n",
        "try:\n",
        "  with open(file_name, 'r', encoding='utf8') as file:\n",
        "    print(file.read())\n",
        "except FileNotFoundError:\n",
        "  with open(file_name, 'w', encoding='utf8') as file:\n",
        "    file.write('Файл был создан')\n",
        "    print(\"Файл не найден. Создан новый файл\")"
      ],
      "metadata": {
        "id": "ttNZVIbQo_LV",
        "colab": {
          "base_uri": "https://localhost:8080/"
        },
        "outputId": "6398035f-b091-4746-9a52-ff2939b4462f"
      },
      "execution_count": null,
      "outputs": [
        {
          "output_type": "stream",
          "name": "stdout",
          "text": [
            "Введите имя файла для чтения: test\n",
            "Файл не найден. Создан новый файл\n"
          ]
        }
      ]
    },
    {
      "cell_type": "markdown",
      "source": [
        "\n",
        "### 5. **Обработка исключений в цикле**  \n",
        "  Напишите программу, которая запрашивает у пользователя числа и добавляет их в список.  \n",
        "  - Если пользователь вводит некорректные данные, программа должна выводить сообщение об ошибке и продолжать работу.  \n",
        "  - Для выхода из программы пользователь должен ввести `\"стоп\"`.\n",
        "\n",
        "  Пример:  \n",
        "    ```\n",
        "    Введите число: 10  \n",
        "    Введите число: текст  \n",
        "    Ошибка: это не число.  \n",
        "    Введите число: стоп  \n",
        "    Итоговый список: [10]\n",
        "    ```"
      ],
      "metadata": {
        "id": "-XGCqB2zo4G_"
      }
    },
    {
      "cell_type": "code",
      "source": [
        "user_input = None\n",
        "numbers = []\n",
        "while user_input != \"стоп\":\n",
        "  user_input = input(\"введите число: \")\n",
        "  try:\n",
        "    user_input = int(user_input)\n",
        "    numbers.append(user_input)\n",
        "  except:\n",
        "    continue\n",
        "print(numbers)"
      ],
      "metadata": {
        "id": "93pustD1o_hy",
        "colab": {
          "base_uri": "https://localhost:8080/"
        },
        "outputId": "0b247423-1812-4378-926a-0dcc31df5e9e"
      },
      "execution_count": null,
      "outputs": [
        {
          "output_type": "stream",
          "name": "stdout",
          "text": [
            "введите число: 1\n",
            "введите число: 2\n",
            "введите число: 3\n",
            "введите число: 142189570948\n",
            "введите число: стоп\n",
            "[1, 2, 3, 142189570948]\n"
          ]
        }
      ]
    }
  ]
}