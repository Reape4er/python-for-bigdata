{
  "nbformat": 4,
  "nbformat_minor": 0,
  "metadata": {
    "colab": {
      "provenance": [],
      "include_colab_link": true
    },
    "kernelspec": {
      "name": "python3",
      "display_name": "Python 3"
    },
    "language_info": {
      "name": "python"
    }
  },
  "cells": [
    {
      "cell_type": "markdown",
      "metadata": {
        "id": "view-in-github",
        "colab_type": "text"
      },
      "source": [
        "<a href=\"https://colab.research.google.com/github/Reape4er/python-for-bigdata/blob/main/%D0%9F%D1%80%D0%B0%D0%BA%D1%82%D0%B8%D1%87%D0%B5%D1%81%D0%BA%D0%B0%D1%8F_%D1%80%D0%B0%D0%B1%D0%BE%D1%82%D0%B0_4.ipynb\" target=\"_parent\"><img src=\"https://colab.research.google.com/assets/colab-badge.svg\" alt=\"Open In Colab\"/></a>"
      ]
    },
    {
      "cell_type": "markdown",
      "source": [
        "# **Практическая работа №3. Введение в Python. Модули и пакеты**\n",
        "\n",
        "---\n",
        "\n",
        "\n"
      ],
      "metadata": {
        "id": "QliphIp1pbse"
      }
    },
    {
      "cell_type": "markdown",
      "source": [
        "**Обучающийся:** *[Введите ваше ФИО]*  "
      ],
      "metadata": {
        "id": "tTK8mNGDqA8Z"
      }
    },
    {
      "cell_type": "markdown",
      "source": [
        "\n",
        "\n",
        "---"
      ],
      "metadata": {
        "id": "wTJjWD61p_dZ"
      }
    },
    {
      "cell_type": "markdown",
      "source": [
        "## **Цель работы:**\n"
      ],
      "metadata": {
        "id": "8sycqVegUH85"
      }
    },
    {
      "cell_type": "markdown",
      "source": [
        "Создать Python-пакет, включающий функции для преобразования координат между декартовой и сферической системами, а также для работы с файлами. Реализовать консольный интерфейс для взаимодействия с функциями пакета."
      ],
      "metadata": {
        "id": "bdHCMBx4UJTb"
      }
    },
    {
      "cell_type": "markdown",
      "source": [
        "## **Задачи:**\n"
      ],
      "metadata": {
        "id": "aziouLamURhA"
      }
    },
    {
      "cell_type": "markdown",
      "source": [
        "1. Создать структуру пакета с необходимыми модулями.\n",
        "2. Реализовать функции для преобразования координат.\n",
        "3. Реализовать функции для работы с файлами.\n",
        "4. Создать файл `__main__.py` с консольным интерфейсом для работы с пакетом.\n",
        "5. Проверить работоспособность пакета на примере."
      ],
      "metadata": {
        "id": "ZyNB5M23US9G"
      }
    },
    {
      "cell_type": "markdown",
      "source": [
        "## **Теоретическая часть:**"
      ],
      "metadata": {
        "id": "AoEP4riFYmrE"
      }
    },
    {
      "cell_type": "markdown",
      "source": [
        "1. **Преобразование декартовых координат в сферические:**\n",
        "\n",
        "   *Формулы для преобразования:*\n",
        "\n",
        "   $\n",
        "   r = \\sqrt{x^2 + y^2 + z^2}\n",
        "   $\n",
        "\n",
        "   - Эта формула вычисляет радиус $r$ от начала координат до точки с координатами $(x, y, z)$ в декартовой системе. Это расстояние в пространстве.\n",
        "\n",
        "   $\n",
        "   \\theta = 2 \\cdot \\text{atan2}(y, x + \\sqrt{x^2 + y^2})\n",
        "   $\n",
        "\n",
        "   - Формула для $\\theta$ (азимутальный угол) использует функцию $\\text{atan2}$, которая возвращает угол в радианах между положительной осью $x$ и точкой $(x, y)$. Умножение на 2 и добавление $\\sqrt{x^2 + y^2}$ в знаменатель обеспечивает корректное определение угла в диапазоне от 0 до $2\\pi$.\n",
        "\n",
        "   $\n",
        "   \\phi = \\text{atan2}(\\sqrt{x^2 + y^2}, z)\n",
        "   $\n",
        "\n",
        "   - Формула для $\\phi$ (полярный угол) также использует $\\text{atan2}$, но здесь она вычисляет угол между положительной осью $z$ и вектором от начала координат до точки. Это значение также получается в радианах.\n",
        "\n",
        "   **Значения $\\theta$ и $\\phi$ получаются в радианах. Для перевода их в градусы необходимо умножить на $\\frac{180}{\\pi}$.**\n",
        "\n",
        "\n",
        "\n"
      ],
      "metadata": {
        "id": "pEAfpUD_UYNL"
      }
    },
    {
      "cell_type": "markdown",
      "source": [
        "2. **Преобразование сферических координат в декартовые:**\n",
        "\n",
        "  *Формулы для преобразования:*\n",
        "\n",
        "   $\n",
        "   x = r \\cdot \\sin(\\phi) \\cdot \\cos(\\theta)\n",
        "   $\n",
        "   \n",
        "   - Эта формула вычисляет координату $x$ в декартовой системе, используя радиус $r$, полярный угол $\\phi$ и азимутальный угол $\\theta$.\n",
        "\n",
        "   $\n",
        "   y = r \\cdot \\sin(\\phi) \\cdot \\sin(\\theta)\n",
        "   $\n",
        "\n",
        "   - Аналогично, эта формула вычисляет координату $y$ в декартовой системе.\n",
        "\n",
        "   $\n",
        "   z = r \\cdot \\cos(\\phi)\n",
        "   $\n",
        "   \n",
        "   - Эта формула вычисляет координату $z$ в декартовой системе, используя радиус $r$ и полярный угол $\\phi$.\n",
        "\n",
        "   **Значения $\\theta$ и $\\phi$ должны быть заданы в радианах. Если они заданы в градусах, их необходимо предварительно перевести в радианы, умножив на $\\frac{\\pi}{180}$.**"
      ],
      "metadata": {
        "id": "PNgijVwBZQxC"
      }
    },
    {
      "cell_type": "markdown",
      "source": [
        "3. **Преобразование между градусами и радианами:**\n",
        "\n",
        "   $\n",
        "   \\text{градусы} \\rightarrow \\text{радианы}: \\text{degrees} \\cdot \\frac{\\pi}{180}\n",
        "   $\n",
        "   - Эта формула используется для перевода углов из градусов в радианы.\n",
        "\n",
        "   $\n",
        "   \\text{радианы} \\rightarrow \\text{градусы}: \\text{radians} \\cdot \\frac{180}{\\pi}\n",
        "   $\n",
        "   - Эта формула используется для перевода углов из радиан в градусы."
      ],
      "metadata": {
        "id": "km-P3kvIZOo9"
      }
    },
    {
      "cell_type": "code",
      "source": [
        "import math\n",
        "\n",
        "# Пример расчета синуса и косинуса от угла в градусах\n",
        "angle_degrees = 45  # Угол в градусах\n",
        "\n",
        "# Преобразование градусов в радианы\n",
        "angle_radians = math.radians(angle_degrees)\n",
        "\n",
        "# Расчет синуса и косинуса\n",
        "sin_value = math.sin(angle_radians)\n",
        "cos_value = math.cos(angle_radians)\n",
        "\n",
        "print(f\"Синус {angle_degrees} градусов: {sin_value}\")\n",
        "print(f\"Косинус {angle_degrees} градусов: {cos_value}\")"
      ],
      "metadata": {
        "colab": {
          "base_uri": "https://localhost:8080/"
        },
        "id": "UbLbordBWolF",
        "outputId": "b4223ae2-8ec1-4f21-964f-10eaac5125a0"
      },
      "execution_count": 1,
      "outputs": [
        {
          "output_type": "stream",
          "name": "stdout",
          "text": [
            "Синус 45 градусов: 0.7071067811865475\n",
            "Косинус 45 градусов: 0.7071067811865476\n"
          ]
        }
      ]
    },
    {
      "cell_type": "code",
      "source": [
        "# Пример расчета atan2 и преобразования результата в градусы\n",
        "y = 1\n",
        "x = 5\n",
        "\n",
        "# Расчет atan2 в радианах\n",
        "atan2_radians = math.atan2(y, x)\n",
        "\n",
        "# Преобразование результата atan2 в градусы\n",
        "atan2_degrees = math.degrees(atan2_radians)\n",
        "\n",
        "print(f\"atan2({y}, {x}) в радианах: {atan2_radians}\")\n",
        "print(f\"atan2({y}, {x}) в градусах: {atan2_degrees}\")"
      ],
      "metadata": {
        "colab": {
          "base_uri": "https://localhost:8080/"
        },
        "id": "r6gfmCU2XN-j",
        "outputId": "5627ee9c-bd22-4bf9-e801-3eb9644fe08b"
      },
      "execution_count": 2,
      "outputs": [
        {
          "output_type": "stream",
          "name": "stdout",
          "text": [
            "atan2(1, 5) в радианах: 0.19739555984988075\n",
            "atan2(1, 5) в градусах: 11.309932474020213\n"
          ]
        }
      ]
    },
    {
      "cell_type": "markdown",
      "source": [
        "\n",
        "\n",
        "## **Практическая часть:**\n",
        "\n"
      ],
      "metadata": {
        "id": "xjcf5dryT4q6"
      }
    },
    {
      "cell_type": "markdown",
      "source": [
        "1. **Создание структуры пакета:**\n",
        "   Создайте директорию `geo_transform` и в ней следующие файлы:\n",
        "   - `__init__.py`\n",
        "   - `transformations.py`\n",
        "   - `utils.py`\n",
        "   - `file_operations.py`\n",
        "   - `__main__.py`\n",
        "\n",
        "2. **Реализация функций преобразования координат:**\n",
        "   В файле `transformations.py` реализуйте функции `cartesian_to_spherical` и `spherical_to_cartesian` с использованием приведенных выше формул.\n",
        "\n",
        "3. **Реализация вспомогательных функций:**\n",
        "   В файле `utils.py` реализуйте функции `deg_to_rad` и `rad_to_deg`.\n",
        "\n",
        "4. **Реализация функций для работы с файлами:**\n",
        "   В файле `file_operations.py` реализуйте функции `write_results_to_file` и `read_coordinates_from_file` для записи и чтения координат из текстовых файлов.\n",
        "\n",
        "5. **Создание `__init__.py`:**\n",
        "   В файле `__init__.py` добавьте импорты всех необходимых функций из других модулей.\n",
        "\n",
        "6. **Реализация консольного интерфейса в `__main__.py`:**\n",
        "   В файле `__main__.py` реализуйте консольный интерфейс для работы с функциями пакета.\n",
        "\n",
        "7. **Проверка работоспособности пакета:**\n",
        "   Запустите пакет как отдельную программу. Проверьте все функции через консольный интерфейс. Импортируйте пакет в стороннем модуле, убедитесь, что все функции работают корректно."
      ],
      "metadata": {
        "id": "3DlYz5qrVG-C"
      }
    },
    {
      "cell_type": "markdown",
      "source": [
        "\n",
        "\n",
        "## **Демонстрация результата:**\n",
        "\n"
      ],
      "metadata": {
        "id": "iIyfPBIGbPdQ"
      }
    },
    {
      "cell_type": "markdown",
      "source": [
        "Вставьте код каждого из ваших модулей в соответствующие ячейки ниже.\n",
        "\n",
        "**Строку, начинающуюся на %%writefile... стирать запрещено**"
      ],
      "metadata": {
        "id": "1ARiSwg3bKML"
      }
    },
    {
      "cell_type": "markdown",
      "source": [
        "### **Содержимое модуля \\_\\_init__.py:**"
      ],
      "metadata": {
        "id": "kcPKYl5abzNp"
      }
    },
    {
      "cell_type": "code",
      "source": [
        "!mkdir geo_transform"
      ],
      "metadata": {
        "id": "T5t41w-tbD5I"
      },
      "execution_count": 3,
      "outputs": []
    },
    {
      "cell_type": "code",
      "source": [
        "%%writefile geo_transform/__init__.py\n",
        "from geo_transform import transformations\n",
        "from geo_transform import utils\n",
        "from geo_transform import file_operations\n",
        "# Ваш код"
      ],
      "metadata": {
        "id": "p_UraYekagmv",
        "colab": {
          "base_uri": "https://localhost:8080/"
        },
        "outputId": "c6fd949d-edd4-4f6e-e5f4-f24091978398"
      },
      "execution_count": 4,
      "outputs": [
        {
          "output_type": "stream",
          "name": "stdout",
          "text": [
            "Writing geo_transform/__init__.py\n"
          ]
        }
      ]
    },
    {
      "cell_type": "markdown",
      "source": [
        "### **Содержимое модуля transformations.py:**"
      ],
      "metadata": {
        "id": "GfgJWdI7cHoW"
      }
    },
    {
      "cell_type": "code",
      "source": [
        "%%writefile geo_transform/transformations.py\n",
        "from math import sqrt, atan2, sin, cos\n",
        "def cartesian_to_spherical(x,y,z):\n",
        "  r = sqrt(x**2+y**2+z**2)\n",
        "  azimuth = 2* atan2(y,x+sqrt(x**2+y**2))\n",
        "  angle = atan2(sqrt(x**2+y**2),z)\n",
        "  return r, azimuth, angle\n",
        "\n",
        "def spherical_to_cartesian(r, azimuth, angle):\n",
        "  x = r*sin(angle)*cos(azimuth)\n",
        "  y = r*sin(angle)*sin(azimuth)\n",
        "  z = r*cos(angle)\n",
        "  return x, y, z"
      ],
      "metadata": {
        "id": "PEwM6HmucHoX",
        "colab": {
          "base_uri": "https://localhost:8080/"
        },
        "outputId": "84c8a75f-e8d2-4be7-db35-b7d0938d329e"
      },
      "execution_count": 5,
      "outputs": [
        {
          "output_type": "stream",
          "name": "stdout",
          "text": [
            "Writing geo_transform/transformations.py\n"
          ]
        }
      ]
    },
    {
      "cell_type": "markdown",
      "source": [
        "### **Содержимое модуля utils.py:**"
      ],
      "metadata": {
        "id": "tw_9FXFkcIBq"
      }
    },
    {
      "cell_type": "code",
      "source": [
        "%%writefile geo_transform/utils.py\n",
        "from math import pi\n",
        "def deg_to_rad(deg):\n",
        "  return deg*pi/180\n",
        "\n",
        "def rad_to_deg(rad):\n",
        "  return rad*180/pi"
      ],
      "metadata": {
        "id": "y96uQcmTcIBr",
        "colab": {
          "base_uri": "https://localhost:8080/"
        },
        "outputId": "76f41e1f-0b7b-4fb9-e1ab-74a73fe715ec"
      },
      "execution_count": 6,
      "outputs": [
        {
          "output_type": "stream",
          "name": "stdout",
          "text": [
            "Writing geo_transform/utils.py\n"
          ]
        }
      ]
    },
    {
      "cell_type": "markdown",
      "source": [
        "### **Содержимое модуля file_operations.py:**"
      ],
      "metadata": {
        "id": "kmYf0AOwcIOg"
      }
    },
    {
      "cell_type": "code",
      "source": [
        "%%writefile geo_transform/file_operations.py\n",
        "def write_results_to_file(result):\n",
        "  with open(\"result.txt\",mode='w',encoding='utf8') as file:\n",
        "    file.write(result)\n",
        "def read_coordinates_from_file(filename):\n",
        "  with open(filename, mode='r',encoding='utf8') as file:\n",
        "    return file.read()\n",
        "# Ваш код"
      ],
      "metadata": {
        "id": "HkmXurkjcIOg",
        "colab": {
          "base_uri": "https://localhost:8080/"
        },
        "outputId": "3b44ea12-31f0-49ac-d681-a9c26c68ae46"
      },
      "execution_count": 32,
      "outputs": [
        {
          "output_type": "stream",
          "name": "stdout",
          "text": [
            "Overwriting geo_transform/file_operations.py\n"
          ]
        }
      ]
    },
    {
      "cell_type": "markdown",
      "source": [
        "### **Содержимое модуля \\_\\_main__.py:**"
      ],
      "metadata": {
        "id": "qUQb0g_RcaUd"
      }
    },
    {
      "cell_type": "code",
      "source": [
        "%%writefile geo_transform/__main__.py\n",
        "from transformations import *\n",
        "from utils import *\n",
        "from file_operations import *\n",
        "from google.colab import output\n",
        "def main():\n",
        "  result = None\n",
        "  while True:\n",
        "    with output.use_tags('test'):\n",
        "      print(\"\"\"\n",
        "        1) Преобразования из Декартовой системы в Сферическую\n",
        "        2) Преобразования из Сферической системы в Декартовую\n",
        "        3) Преобразовать градусы в радианы\n",
        "        4) Преобразовать радианы в градусы\n",
        "        5) Записать результат в файл\n",
        "        6) Загрузить координаты из файла\n",
        "            \"\"\"\n",
        "          )\n",
        "      print(f'Текущий результат {result}')\n",
        "      match input():\n",
        "        case \"1\":\n",
        "          result = cartesian_to_spherical(*map(float,input('Введите x, y, z через пробел ').strip().split()))\n",
        "        case \"2\":\n",
        "          result = spherical_to_cartesian(*map(float,input('Введите r, azimuth, angle через пробел ').strip().split()))\n",
        "        case \"3\":\n",
        "          result = deg_to_rad(float(input('Введите градусы ')))\n",
        "        case \"4\":\n",
        "          result = rad_to_deg(float(input('Введите радианы ')))\n",
        "        case \"5\":\n",
        "          write_results_to_file(str(result))\n",
        "        case \"6\":\n",
        "          result = read_coordinates_from_file(input('Введите путь к файлу'))\n",
        "    output.clear(wait=True,output_tags='test')\n",
        "\n",
        "\n",
        "if __name__ == \"__main__\":\n",
        "    main()"
      ],
      "metadata": {
        "id": "qzNV09hfcaUe",
        "colab": {
          "base_uri": "https://localhost:8080/"
        },
        "outputId": "adb0e256-3001-45fe-bea4-bb01d34268d7"
      },
      "execution_count": 34,
      "outputs": [
        {
          "output_type": "stream",
          "name": "stdout",
          "text": [
            "Overwriting geo_transform/__main__.py\n"
          ]
        }
      ]
    },
    {
      "cell_type": "code",
      "source": [
        "!python geo_transform"
      ],
      "metadata": {
        "colab": {
          "base_uri": "https://localhost:8080/"
        },
        "id": "6gkwcB3qmIpK",
        "outputId": "0617f0dc-7415-4bd8-9b5f-3ed7ef47cb04"
      },
      "execution_count": 35,
      "outputs": [
        {
          "output_type": "stream",
          "name": "stdout",
          "text": [
            "\n",
            "        1) Преобразования из Декартовой системы в Сферическую\n",
            "        2) Преобразования из Сферической системы в Декартовую\n",
            "        3) Преобразовать градусы в радианы\n",
            "        4) Преобразовать радианы в градусы\n",
            "        5) Записать результат в файл\n",
            "        6) Загрузить координаты из файла\n",
            "            \n",
            "Текущий результат None\n",
            "1\n",
            "Введите x, y, z через пробел 1 2 3\n",
            "\n",
            "        1) Преобразования из Декартовой системы в Сферическую\n",
            "        2) Преобразования из Сферической системы в Декартовую\n",
            "        3) Преобразовать градусы в радианы\n",
            "        4) Преобразовать радианы в градусы\n",
            "        5) Записать результат в файл\n",
            "        6) Загрузить координаты из файла\n",
            "            \n",
            "Текущий результат (3.7416573867739413, 1.1071487177940904, 0.6405223126794246)\n",
            "5\n",
            "\n",
            "        1) Преобразования из Декартовой системы в Сферическую\n",
            "        2) Преобразования из Сферической системы в Декартовую\n",
            "        3) Преобразовать градусы в радианы\n",
            "        4) Преобразовать радианы в градусы\n",
            "        5) Записать результат в файл\n",
            "        6) Загрузить координаты из файла\n",
            "            \n",
            "Текущий результат (3.7416573867739413, 1.1071487177940904, 0.6405223126794246)\n",
            "66\n",
            "\n",
            "        1) Преобразования из Декартовой системы в Сферическую\n",
            "        2) Преобразования из Сферической системы в Декартовую\n",
            "        3) Преобразовать градусы в радианы\n",
            "        4) Преобразовать радианы в градусы\n",
            "        5) Записать результат в файл\n",
            "        6) Загрузить координаты из файла\n",
            "            \n",
            "Текущий результат (3.7416573867739413, 1.1071487177940904, 0.6405223126794246)\n",
            "6\n",
            "Введите путь к файлуresult.txt\n",
            "\n",
            "        1) Преобразования из Декартовой системы в Сферическую\n",
            "        2) Преобразования из Сферической системы в Декартовую\n",
            "        3) Преобразовать градусы в радианы\n",
            "        4) Преобразовать радианы в градусы\n",
            "        5) Записать результат в файл\n",
            "        6) Загрузить координаты из файла\n",
            "            \n",
            "Текущий результат (3.7416573867739413, 1.1071487177940904, 0.6405223126794246)\n",
            "q\n",
            "\n",
            "        1) Преобразования из Декартовой системы в Сферическую\n",
            "        2) Преобразования из Сферической системы в Декартовую\n",
            "        3) Преобразовать градусы в радианы\n",
            "        4) Преобразовать радианы в градусы\n",
            "        5) Записать результат в файл\n",
            "        6) Загрузить координаты из файла\n",
            "            \n",
            "Текущий результат (3.7416573867739413, 1.1071487177940904, 0.6405223126794246)\n",
            "Traceback (most recent call last):\n",
            "object address  : 0x7cd877e7c5e0\n",
            "object refcount : 3\n",
            "object type     : 0xa2a4e0\n",
            "object type name: KeyboardInterrupt\n",
            "object repr     : KeyboardInterrupt()\n",
            "lost sys.stderr\n",
            "^C\n"
          ]
        }
      ]
    },
    {
      "cell_type": "markdown",
      "source": [
        "### **Содержимое модуля main.py (с импортом пакета и тестированием функций из него):**"
      ],
      "metadata": {
        "id": "vGqPXMcdcpxE"
      }
    },
    {
      "cell_type": "code",
      "source": [
        "import geo_transform\n",
        "\n",
        "# Пример использования функций из пакета\n",
        "x, y, z = 1, 2, 3\n",
        "r, azimuth, angle = geo_transform.transformations.cartesian_to_spherical(x, y, z)\n",
        "print(f\"Декартовы координаты ({x}, {y}, {z}) в сферические: r={r}, azimuth={azimuth} rad, angle={angle} rad\")\n",
        "\n",
        "r_deg = geo_transform.utils.rad_to_deg(r)\n",
        "azimuth_deg = geo_transform.utils.rad_to_deg(azimuth)\n",
        "angle_deg = geo_transform.utils.rad_to_deg(angle)\n",
        "print(f\"Сферические координаты в градусах: azimuth={azimuth_deg} deg, angle={angle_deg} deg\")\n",
        "\n",
        "r_new, azimuth_new, angle_new = 3.7416573867739413, 1.1071487177940904, 0.6405223126794246\n",
        "x_new, y_new, z_new = geo_transform.transformations.spherical_to_cartesian(r_new, azimuth_new, angle_new)\n",
        "print(f\"Сферические координаты (r={r_new}, azimuth={azimuth_new} rad, angle={angle_new} rad) в декартовы: ({x_new}, {y_new}, {z_new})\")\n",
        "\n",
        "# Пример использования функций для работы с файлами\n",
        "result_to_write = str(geo_transform.transformations.spherical_to_cartesian(r_new, azimuth_new, angle_new))\n",
        "geo_transform.file_operations.write_results_to_file(result_to_write)\n",
        "print(\"Результат записан в файл result.txt\")\n",
        "\n",
        "# Пример использования функций для работы с файлами\n",
        "file_to_read = \"result.txt\"\n",
        "print(f\"Результат из файла: {geo_transform.file_operations.read_coordinates_from_file(file_to_read)}\")"
      ],
      "metadata": {
        "id": "4b1mRDL6cpxE",
        "colab": {
          "base_uri": "https://localhost:8080/"
        },
        "outputId": "fb3b3443-6369-4d5d-98a2-3f06b5d8caee"
      },
      "execution_count": 31,
      "outputs": [
        {
          "output_type": "stream",
          "name": "stdout",
          "text": [
            "Декартовы координаты (1, 2, 3) в сферические: r=3.7416573867739413, azimuth=1.1071487177940904 rad, angle=0.6405223126794246 rad\n",
            "Сферические координаты в градусах: azimuth=63.43494882292201 deg, angle=36.699225200489884 deg\n",
            "Сферические координаты (r=3.7416573867739413, azimuth=1.1071487177940904 rad, angle=0.6405223126794246 rad) в декартовы: (1.0000000000000002, 2.0, 2.9999999999999996)\n",
            "Результат записан в файл result.txt\n",
            "Результат из файла: ['(1.0000000000000002,', '2.0,', '2.9999999999999996)']\n"
          ]
        }
      ]
    }
  ]
}